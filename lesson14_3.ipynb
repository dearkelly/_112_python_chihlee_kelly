{
 "cells": [
  {
   "cell_type": "code",
   "execution_count": 1,
   "metadata": {},
   "outputs": [],
   "source": [
    "import numpy as np\n",
    "import pandas as pd\n",
    "scroes = np.random.randint(50, 100,size=(50,5))\n",
    "scores_df = pd.DataFrame(scroes,\n",
    "             columns=['國文', '英文', '數學', '地理', '歷史'],\n",
    "             index=range(1,51))\n",
    "scores_df\n",
    "sum_values = scores_df.sum(axis=1)\n",
    "mean_values = scores_df.mean(axis=1)\n",
    "scores_df['總分'] = sum_values\n",
    "scores_df['平均'] = mean_values"
   ]
  },
  {
   "cell_type": "code",
   "execution_count": 5,
   "metadata": {},
   "outputs": [],
   "source": [
    "scores_df\n",
    "scores_df.style\\\n",
    "    .format(precision=2)\\\n",
    "    .highlight_between(left=50,right=59)\\\n",
    "    .to_excel('abc.xlsx')"
   ]
  }
 ],
 "metadata": {
  "kernelspec": {
   "display_name": "Python 3",
   "language": "python",
   "name": "python3"
  },
  "language_info": {
   "codemirror_mode": {
    "name": "ipython",
    "version": 3
   },
   "file_extension": ".py",
   "mimetype": "text/x-python",
   "name": "python",
   "nbconvert_exporter": "python",
   "pygments_lexer": "ipython3",
   "version": "3.10.13"
  }
 },
 "nbformat": 4,
 "nbformat_minor": 2
}
