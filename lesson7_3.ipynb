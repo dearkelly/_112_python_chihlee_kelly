{
 "cells": [
  {
   "cell_type": "code",
   "execution_count": 1,
   "metadata": {},
   "outputs": [],
   "source": [
    "class Student():\n",
    "    def __init__(self,na:int,ch:int,en:int,ma:int): #自訂的初始化\n",
    "        self.name = na\n",
    "        self.chiness = ch\n",
    "        self.english = en\n",
    "        self.math = ma\n",
    "\n",
    "    def sum(self)->int: #實體方法\n",
    "        return self.chinese + self.english + self.math"
   ]
  },
  {
   "cell_type": "code",
   "execution_count": 2,
   "metadata": {},
   "outputs": [
    {
     "name": "stdout",
     "output_type": "stream",
     "text": [
      "robert\n",
      "78\n",
      "90\n",
      "92\n"
     ]
    },
    {
     "ename": "AttributeError",
     "evalue": "'Student' object has no attribute 'chinese'",
     "output_type": "error",
     "traceback": [
      "\u001b[0;31m---------------------------------------------------------------------------\u001b[0m",
      "\u001b[0;31mAttributeError\u001b[0m                            Traceback (most recent call last)",
      "\u001b[1;32m/workspaces/_112_python_chihlee_kelly/lesson7_3.ipynb Cell 2\u001b[0m line \u001b[0;36m7\n\u001b[1;32m      <a href='vscode-notebook-cell://codespaces%2Bspecial-zebra-5gqw4679qxjph4v5g/workspaces/_112_python_chihlee_kelly/lesson7_3.ipynb#W1sdnNjb2RlLXJlbW90ZQ%3D%3D?line=4'>5</a>\u001b[0m \u001b[39mprint\u001b[39m(stu1\u001b[39m.\u001b[39menglish)\n\u001b[1;32m      <a href='vscode-notebook-cell://codespaces%2Bspecial-zebra-5gqw4679qxjph4v5g/workspaces/_112_python_chihlee_kelly/lesson7_3.ipynb#W1sdnNjb2RlLXJlbW90ZQ%3D%3D?line=5'>6</a>\u001b[0m \u001b[39mprint\u001b[39m(stu1\u001b[39m.\u001b[39mmath)\n\u001b[0;32m----> <a href='vscode-notebook-cell://codespaces%2Bspecial-zebra-5gqw4679qxjph4v5g/workspaces/_112_python_chihlee_kelly/lesson7_3.ipynb#W1sdnNjb2RlLXJlbW90ZQ%3D%3D?line=6'>7</a>\u001b[0m \u001b[39mprint\u001b[39m(stu1\u001b[39m.\u001b[39;49msum())\n",
      "\u001b[1;32m/workspaces/_112_python_chihlee_kelly/lesson7_3.ipynb Cell 2\u001b[0m line \u001b[0;36m9\n\u001b[1;32m      <a href='vscode-notebook-cell://codespaces%2Bspecial-zebra-5gqw4679qxjph4v5g/workspaces/_112_python_chihlee_kelly/lesson7_3.ipynb#W1sdnNjb2RlLXJlbW90ZQ%3D%3D?line=7'>8</a>\u001b[0m \u001b[39mdef\u001b[39;00m \u001b[39msum\u001b[39m(\u001b[39mself\u001b[39m)\u001b[39m-\u001b[39m\u001b[39m>\u001b[39m\u001b[39mint\u001b[39m: \u001b[39m#實體方法\u001b[39;00m\n\u001b[0;32m----> <a href='vscode-notebook-cell://codespaces%2Bspecial-zebra-5gqw4679qxjph4v5g/workspaces/_112_python_chihlee_kelly/lesson7_3.ipynb#W1sdnNjb2RlLXJlbW90ZQ%3D%3D?line=8'>9</a>\u001b[0m     \u001b[39mreturn\u001b[39;00m \u001b[39mself\u001b[39;49m\u001b[39m.\u001b[39;49mchinese \u001b[39m+\u001b[39m \u001b[39mself\u001b[39m\u001b[39m.\u001b[39menglish \u001b[39m+\u001b[39m \u001b[39mself\u001b[39m\u001b[39m.\u001b[39mmath\n",
      "\u001b[0;31mAttributeError\u001b[0m: 'Student' object has no attribute 'chinese'"
     ]
    }
   ],
   "source": [
    "stu1 = Student(\"robert\",78,90,92)\n",
    "type(stu1)\n",
    "print(stu1.name)\n",
    "print(stu1.chiness)\n",
    "print(stu1.english)\n",
    "print(stu1.math)\n",
    "print(stu1.sum())"
   ]
  },
  {
   "cell_type": "code",
   "execution_count": 9,
   "metadata": {},
   "outputs": [
    {
     "name": "stdout",
     "output_type": "stream",
     "text": [
      "alice\n",
      "77\n",
      "93\n",
      "65\n"
     ]
    }
   ],
   "source": [
    "stu2 = Student(\"alice\",77,93,65)\n",
    "type(stu2)\n",
    "print(stu2.name)\n",
    "print(stu2.chiness)\n",
    "print(stu2.english)\n",
    "print(stu2.math)\n",
    "print(stu2.sum())"
   ]
  },
  {
   "cell_type": "code",
   "execution_count": 10,
   "metadata": {},
   "outputs": [
    {
     "name": "stdout",
     "output_type": "stream",
     "text": [
      "robert\n",
      "alice\n"
     ]
    }
   ],
   "source": [
    "print(stu1.name)\n",
    "print(stu2.name)"
   ]
  }
 ],
 "metadata": {
  "kernelspec": {
   "display_name": "Python 3",
   "language": "python",
   "name": "python3"
  },
  "language_info": {
   "codemirror_mode": {
    "name": "ipython",
    "version": 3
   },
   "file_extension": ".py",
   "mimetype": "text/x-python",
   "name": "python",
   "nbconvert_exporter": "python",
   "pygments_lexer": "ipython3",
   "version": "3.10.13"
  }
 },
 "nbformat": 4,
 "nbformat_minor": 2
}
