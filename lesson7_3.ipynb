{
 "cells": [
  {
   "cell_type": "code",
   "execution_count": 6,
   "metadata": {},
   "outputs": [],
   "source": [
    "class Student():\n",
    "    def __init__(self,na,ch,en,ma):\n",
    "        self.name = na\n",
    "        self.chiness = ch\n",
    "        self.english = en\n",
    "        self.math = ma"
   ]
  },
  {
   "cell_type": "code",
   "execution_count": 8,
   "metadata": {},
   "outputs": [
    {
     "name": "stdout",
     "output_type": "stream",
     "text": [
      "robert\n",
      "78\n",
      "90\n",
      "92\n"
     ]
    }
   ],
   "source": [
    "stu1 = Student(\"robert\",78,90,92)\n",
    "type(stu1)\n",
    "print(stu1.name)\n",
    "print(stu1.chiness)\n",
    "print(stu1.english)\n",
    "print(stu1.math)"
   ]
  },
  {
   "cell_type": "code",
   "execution_count": 9,
   "metadata": {},
   "outputs": [
    {
     "name": "stdout",
     "output_type": "stream",
     "text": [
      "alice\n",
      "77\n",
      "93\n",
      "65\n"
     ]
    }
   ],
   "source": [
    "stu2 = Student(\"alice\",77,93,65)\n",
    "type(stu2)\n",
    "print(stu2.name)\n",
    "print(stu2.chiness)\n",
    "print(stu2.english)\n",
    "print(stu2.math)"
   ]
  },
  {
   "cell_type": "code",
   "execution_count": 10,
   "metadata": {},
   "outputs": [
    {
     "name": "stdout",
     "output_type": "stream",
     "text": [
      "robert\n",
      "alice\n"
     ]
    }
   ],
   "source": [
    "print(stu1.name)\n",
    "print(stu2.name)"
   ]
  }
 ],
 "metadata": {
  "kernelspec": {
   "display_name": "Python 3",
   "language": "python",
   "name": "python3"
  },
  "language_info": {
   "codemirror_mode": {
    "name": "ipython",
    "version": 3
   },
   "file_extension": ".py",
   "mimetype": "text/x-python",
   "name": "python",
   "nbconvert_exporter": "python",
   "pygments_lexer": "ipython3",
   "version": "3.10.13"
  }
 },
 "nbformat": 4,
 "nbformat_minor": 2
}
