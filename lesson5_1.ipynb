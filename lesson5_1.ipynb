{
 "cells": [
  {
   "cell_type": "code",
   "execution_count": 3,
   "metadata": {},
   "outputs": [
    {
     "data": {
      "text/plain": [
       "100"
      ]
     },
     "metadata": {},
     "output_type": "display_data"
    }
   ],
   "source": [
    "n = 0\n",
    "for i in range(1,101):\n",
    "    n += 1\n",
    "\n",
    "display(n)"
   ]
  },
  {
   "cell_type": "code",
   "execution_count": 4,
   "metadata": {},
   "outputs": [
    {
     "name": "stdout",
     "output_type": "stream",
     "text": [
      "i=1\n",
      "j=1\n",
      "j=2\n",
      "j=3\n",
      "j=4\n",
      "j=5\n",
      "j=6\n",
      "j=7\n",
      "j=8\n",
      "j=9\n",
      "=========\n",
      "i=2\n",
      "j=1\n",
      "j=2\n",
      "j=3\n",
      "j=4\n",
      "j=5\n",
      "j=6\n",
      "j=7\n",
      "j=8\n",
      "j=9\n",
      "=========\n",
      "i=3\n",
      "j=1\n",
      "j=2\n",
      "j=3\n",
      "j=4\n",
      "j=5\n",
      "j=6\n",
      "j=7\n",
      "j=8\n",
      "j=9\n",
      "=========\n",
      "i=4\n",
      "j=1\n",
      "j=2\n",
      "j=3\n",
      "j=4\n",
      "j=5\n",
      "j=6\n",
      "j=7\n",
      "j=8\n",
      "j=9\n",
      "=========\n",
      "i=5\n",
      "j=1\n",
      "j=2\n",
      "j=3\n",
      "j=4\n",
      "j=5\n",
      "j=6\n",
      "j=7\n",
      "j=8\n",
      "j=9\n",
      "=========\n",
      "i=6\n",
      "j=1\n",
      "j=2\n",
      "j=3\n",
      "j=4\n",
      "j=5\n",
      "j=6\n",
      "j=7\n",
      "j=8\n",
      "j=9\n",
      "=========\n",
      "i=7\n",
      "j=1\n",
      "j=2\n",
      "j=3\n",
      "j=4\n",
      "j=5\n",
      "j=6\n",
      "j=7\n",
      "j=8\n",
      "j=9\n",
      "=========\n",
      "i=8\n",
      "j=1\n",
      "j=2\n",
      "j=3\n",
      "j=4\n",
      "j=5\n",
      "j=6\n",
      "j=7\n",
      "j=8\n",
      "j=9\n",
      "=========\n",
      "i=9\n",
      "j=1\n",
      "j=2\n",
      "j=3\n",
      "j=4\n",
      "j=5\n",
      "j=6\n",
      "j=7\n",
      "j=8\n",
      "j=9\n",
      "=========\n"
     ]
    }
   ],
   "source": [
    "for i in range(1,10):\n",
    "    print(f'i={i}')\n",
    "    for j in range(1,10):\n",
    "        print(f'j={j}')\n",
    "    print(\"=========\")"
   ]
  },
  {
   "cell_type": "code",
   "execution_count": 16,
   "metadata": {},
   "outputs": [
    {
     "name": "stdout",
     "output_type": "stream",
     "text": [
      "1 2 4 5 a 4 6\n",
      "1-2.3-5-a\n",
      "1-2.3-5-a?\n",
      "1-2-3-5-6-7-a-b-c?\\n1-2-3-5-6-7-a-b-c?\\n"
     ]
    }
   ],
   "source": [
    "#沒有限定數量的呼叫\n",
    "print(1,2,4,5,'a',4,6) \n",
    "print(1,2.3,5,'a',sep='-')\n",
    "print(1,2.3,5,'a',sep='-',end='?\\n')\n",
    "print(1,2,3,5,6,7,'a','b','c',sep='-',end='?\\\\n')\n",
    "print(1,2,3,5,6,7,'a','b','c',end='?\\\\n',sep='-')"
   ]
  },
  {
   "cell_type": "code",
   "execution_count": 8,
   "metadata": {},
   "outputs": [
    {
     "name": "stdout",
     "output_type": "stream",
     "text": [
      "1-2.3-5-a\n"
     ]
    }
   ],
   "source": [
    "#預設參數用引數名稱呼叫\n",
    "print(1,2.3,5,'a',sep='-')"
   ]
  },
  {
   "cell_type": "code",
   "execution_count": 10,
   "metadata": {},
   "outputs": [
    {
     "name": "stdout",
     "output_type": "stream",
     "text": [
      "i=1\n",
      "j= 1 2 3 4 5 6 7 8 9 \n",
      "=========\n",
      "i=2\n",
      "j= 1 2 3 4 5 6 7 8 9 \n",
      "=========\n",
      "i=3\n",
      "j= 1 2 3 4 5 6 7 8 9 \n",
      "=========\n",
      "i=4\n",
      "j= 1 2 3 4 5 6 7 8 9 \n",
      "=========\n",
      "i=5\n",
      "j= 1 2 3 4 5 6 7 8 9 \n",
      "=========\n",
      "i=6\n",
      "j= 1 2 3 4 5 6 7 8 9 \n",
      "=========\n",
      "i=7\n",
      "j= 1 2 3 4 5 6 7 8 9 \n",
      "=========\n",
      "i=8\n",
      "j= 1 2 3 4 5 6 7 8 9 \n",
      "=========\n",
      "i=9\n",
      "j= 1 2 3 4 5 6 7 8 9 \n",
      "=========\n"
     ]
    }
   ],
   "source": [
    "for i in range(1,10):\n",
    "    print(f'i={i}')\n",
    "    print('j=',end=' ')\n",
    "    for j in range(1,10):\n",
    "        print(f'{j}',end=' ')\n",
    "    print(\"\\n=========\")"
   ]
  },
  {
   "cell_type": "code",
   "execution_count": 17,
   "metadata": {},
   "outputs": [
    {
     "name": "stdout",
     "output_type": "stream",
     "text": [
      "1*1=1 1*2=2 1*3=3 1*4=4 1*5=5 1*6=6 1*7=7 1*8=8 1*9=9 \n",
      "2*1=2 2*2=4 2*3=6 2*4=8 2*5=10 2*6=12 2*7=14 2*8=16 2*9=18 \n",
      "3*1=3 3*2=6 3*3=9 3*4=12 3*5=15 3*6=18 3*7=21 3*8=24 3*9=27 \n",
      "4*1=4 4*2=8 4*3=12 4*4=16 4*5=20 4*6=24 4*7=28 4*8=32 4*9=36 \n",
      "5*1=5 5*2=10 5*3=15 5*4=20 5*5=25 5*6=30 5*7=35 5*8=40 5*9=45 \n",
      "6*1=6 6*2=12 6*3=18 6*4=24 6*5=30 6*6=36 6*7=42 6*8=48 6*9=54 \n",
      "7*1=7 7*2=14 7*3=21 7*4=28 7*5=35 7*6=42 7*7=49 7*8=56 7*9=63 \n",
      "8*1=8 8*2=16 8*3=24 8*4=32 8*5=40 8*6=48 8*7=56 8*8=64 8*9=72 \n",
      "9*1=9 9*2=18 9*3=27 9*4=36 9*5=45 9*6=54 9*7=63 9*8=72 9*9=81 \n"
     ]
    }
   ],
   "source": [
    "#巢狀迴圈\n",
    "for i in range(1,10):\n",
    "    for j in range(1,10):\n",
    "        print(f'{i}*{j}={i * j}',end=' ')\n",
    "    print()"
   ]
  }
 ],
 "metadata": {
  "kernelspec": {
   "display_name": "Python 3",
   "language": "python",
   "name": "python3"
  },
  "language_info": {
   "codemirror_mode": {
    "name": "ipython",
    "version": 3
   },
   "file_extension": ".py",
   "mimetype": "text/x-python",
   "name": "python",
   "nbconvert_exporter": "python",
   "pygments_lexer": "ipython3",
   "version": "3.10.13"
  }
 },
 "nbformat": 4,
 "nbformat_minor": 2
}
