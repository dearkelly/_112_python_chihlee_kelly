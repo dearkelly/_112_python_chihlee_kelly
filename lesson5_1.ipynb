{
 "cells": [
  {
   "cell_type": "code",
   "execution_count": 3,
   "metadata": {},
   "outputs": [
    {
     "data": {
      "text/plain": [
       "100"
      ]
     },
     "metadata": {},
     "output_type": "display_data"
    }
   ],
   "source": [
    "n = 0\n",
    "for i in range(1,101):\n",
    "    n += 1\n",
    "\n",
    "display(n)"
   ]
  },
  {
   "cell_type": "code",
   "execution_count": 4,
   "metadata": {},
   "outputs": [
    {
     "name": "stdout",
     "output_type": "stream",
     "text": [
      "i=1\n",
      "j=1\n",
      "j=2\n",
      "j=3\n",
      "j=4\n",
      "j=5\n",
      "j=6\n",
      "j=7\n",
      "j=8\n",
      "j=9\n",
      "=========\n",
      "i=2\n",
      "j=1\n",
      "j=2\n",
      "j=3\n",
      "j=4\n",
      "j=5\n",
      "j=6\n",
      "j=7\n",
      "j=8\n",
      "j=9\n",
      "=========\n",
      "i=3\n",
      "j=1\n",
      "j=2\n",
      "j=3\n",
      "j=4\n",
      "j=5\n",
      "j=6\n",
      "j=7\n",
      "j=8\n",
      "j=9\n",
      "=========\n",
      "i=4\n",
      "j=1\n",
      "j=2\n",
      "j=3\n",
      "j=4\n",
      "j=5\n",
      "j=6\n",
      "j=7\n",
      "j=8\n",
      "j=9\n",
      "=========\n",
      "i=5\n",
      "j=1\n",
      "j=2\n",
      "j=3\n",
      "j=4\n",
      "j=5\n",
      "j=6\n",
      "j=7\n",
      "j=8\n",
      "j=9\n",
      "=========\n",
      "i=6\n",
      "j=1\n",
      "j=2\n",
      "j=3\n",
      "j=4\n",
      "j=5\n",
      "j=6\n",
      "j=7\n",
      "j=8\n",
      "j=9\n",
      "=========\n",
      "i=7\n",
      "j=1\n",
      "j=2\n",
      "j=3\n",
      "j=4\n",
      "j=5\n",
      "j=6\n",
      "j=7\n",
      "j=8\n",
      "j=9\n",
      "=========\n",
      "i=8\n",
      "j=1\n",
      "j=2\n",
      "j=3\n",
      "j=4\n",
      "j=5\n",
      "j=6\n",
      "j=7\n",
      "j=8\n",
      "j=9\n",
      "=========\n",
      "i=9\n",
      "j=1\n",
      "j=2\n",
      "j=3\n",
      "j=4\n",
      "j=5\n",
      "j=6\n",
      "j=7\n",
      "j=8\n",
      "j=9\n",
      "=========\n"
     ]
    }
   ],
   "source": [
    "for i in range(1,10):\n",
    "    print(f'i={i}')\n",
    "    for j in range(1,10):\n",
    "        print(f'j={j}')\n",
    "    print(\"=========\")"
   ]
  },
  {
   "cell_type": "code",
   "execution_count": 16,
   "metadata": {},
   "outputs": [
    {
     "name": "stdout",
     "output_type": "stream",
     "text": [
      "1 2 4 5 a 4 6\n",
      "1-2.3-5-a\n",
      "1-2.3-5-a?\n",
      "1-2-3-5-6-7-a-b-c?\\n1-2-3-5-6-7-a-b-c?\\n"
     ]
    }
   ],
   "source": [
    "#沒有限定數量的呼叫\n",
    "print(1,2,4,5,'a',4,6) \n",
    "print(1,2.3,5,'a',sep='-')\n",
    "print(1,2.3,5,'a',sep='-',end='?\\n')\n",
    "print(1,2,3,5,6,7,'a','b','c',sep='-',end='?\\\\n')\n",
    "print(1,2,3,5,6,7,'a','b','c',end='?\\\\n',sep='-')"
   ]
  },
  {
   "cell_type": "code",
   "execution_count": 8,
   "metadata": {},
   "outputs": [
    {
     "name": "stdout",
     "output_type": "stream",
     "text": [
      "1-2.3-5-a\n"
     ]
    }
   ],
   "source": [
    "#預設參數用引數名稱呼叫\n",
    "print(1,2.3,5,'a',sep='-')"
   ]
  },
  {
   "cell_type": "code",
   "execution_count": 10,
   "metadata": {},
   "outputs": [
    {
     "name": "stdout",
     "output_type": "stream",
     "text": [
      "i=1\n",
      "j= 1 2 3 4 5 6 7 8 9 \n",
      "=========\n",
      "i=2\n",
      "j= 1 2 3 4 5 6 7 8 9 \n",
      "=========\n",
      "i=3\n",
      "j= 1 2 3 4 5 6 7 8 9 \n",
      "=========\n",
      "i=4\n",
      "j= 1 2 3 4 5 6 7 8 9 \n",
      "=========\n",
      "i=5\n",
      "j= 1 2 3 4 5 6 7 8 9 \n",
      "=========\n",
      "i=6\n",
      "j= 1 2 3 4 5 6 7 8 9 \n",
      "=========\n",
      "i=7\n",
      "j= 1 2 3 4 5 6 7 8 9 \n",
      "=========\n",
      "i=8\n",
      "j= 1 2 3 4 5 6 7 8 9 \n",
      "=========\n",
      "i=9\n",
      "j= 1 2 3 4 5 6 7 8 9 \n",
      "=========\n"
     ]
    }
   ],
   "source": [
    "for i in range(1,10):\n",
    "    print(f'i={i}')\n",
    "    print('j=',end=' ')\n",
    "    for j in range(1,10):\n",
    "        print(f'{j}',end=' ')\n",
    "    print(\"\\n=========\")"
   ]
  }
 ],
 "metadata": {
  "kernelspec": {
   "display_name": "Python 3",
   "language": "python",
   "name": "python3"
  },
  "language_info": {
   "codemirror_mode": {
    "name": "ipython",
    "version": 3
   },
   "file_extension": ".py",
   "mimetype": "text/x-python",
   "name": "python",
   "nbconvert_exporter": "python",
   "pygments_lexer": "ipython3",
   "version": "3.10.13"
  }
 },
 "nbformat": 4,
 "nbformat_minor": 2
}
