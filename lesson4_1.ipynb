{
 "cells": [
  {
   "cell_type": "code",
   "execution_count": 1,
   "metadata": {},
   "outputs": [
    {
     "name": "stdout",
     "output_type": "stream",
     "text": [
      "請輸入學生分數(最高300分):\n",
      "學生盧家琪分數為270\n"
     ]
    }
   ],
   "source": [
    "#學生總分為300\n",
    "import pyinputplus as pyip\n",
    "\n",
    "scores = pyip.inputInt(\"請輸入學生分數(最高300分):\")\n",
    "name = \"盧家琪\"\n",
    "print()\n",
    "print(f\"學生{name}分數為{scores}\") #字串插補"
   ]
  },
  {
   "cell_type": "code",
   "execution_count": 3,
   "metadata": {},
   "outputs": [
    {
     "name": "stdout",
     "output_type": "stream",
     "text": [
      "請輸入學生分數(最高300分):\n",
      "學生盧家琪分數為270\n"
     ]
    }
   ],
   "source": [
    "#學生總分為300\n",
    "import pyinputplus as pyip\n",
    "\n",
    "scores = pyip.inputInt(\"請輸入學生分數(最高300分):\")\n",
    "name = \"盧家琪\"\n",
    "print()\n",
    "if scores <= 300:\n",
    "    print(f\"學生{name}分數為{scores}\") #字串插補\n",
    "else:\n",
    "    print(f\"豬頭，不可以超過300\")"
   ]
  },
  {
   "cell_type": "code",
   "execution_count": 8,
   "metadata": {},
   "outputs": [
    {
     "name": "stdout",
     "output_type": "stream",
     "text": [
      "請輸入學生分數(最高300分):Number must be at maximum 300.\n",
      "請輸入學生分數(最高300分):Number must be at maximum 300.\n",
      "請輸入學生分數(最高300分):\n",
      "學生盧家琪分數為300\n"
     ]
    }
   ],
   "source": [
    "#學生總分為300\n",
    "import pyinputplus as pyip\n",
    "\n",
    "scores = pyip.inputInt(\"請輸入學生分數(最高300分):\",min=0,max=300)\n",
    "name = \"盧家琪\"\n",
    "print()\n",
    "print(f\"學生{name}分數為{scores}\") #字串插補\n"
   ]
  },
  {
   "cell_type": "code",
   "execution_count": 23,
   "metadata": {},
   "outputs": [
    {
     "name": "stdout",
     "output_type": "stream",
     "text": [
      "請輸入學生分數(最高300分):270\n",
      "學生是否符合加分條件(請選擇1或2)?\n",
      "1. y\n",
      "2. n\n",
      "加分\n"
     ]
    }
   ],
   "source": [
    "#學生總分為300\n",
    "#有些學生可以加分5%\n",
    "#如果加分超過300，就以300分為準\n",
    "\n",
    "import pyinputplus as pyip\n",
    "\n",
    "scores = pyip.inputInt(\"請輸入學生分數(最高300分):\",min=0,max=300)\n",
    "print(scores)\n",
    "isYes = pyip.inputMenu(['y','n'],prompt=\"學生是否符合加分條件(請選擇1或2)?\\n\",numbered=True)\n",
    "if isYes == 'y':\n",
    "    print(\"加分\")\n",
    "else:\n",
    "    print(\"減分\")"
   ]
  },
  {
   "cell_type": "code",
   "execution_count": 25,
   "metadata": {},
   "outputs": [
    {
     "name": "stdout",
     "output_type": "stream",
     "text": [
      "請輸入學生分數(最高300分):290\n",
      "學生是否符合加分條件(請選擇1或2)?\n",
      "1. y\n",
      "2. n\n",
      "學生分數為300\n"
     ]
    }
   ],
   "source": [
    "#學生總分為300\n",
    "#有些學生可以加分5%\n",
    "#如果加分超過300，就以300分為準\n",
    "\n",
    "import pyinputplus as pyip\n",
    "\n",
    "scores = pyip.inputInt(\"請輸入學生分數(最高300分):\",min=0,max=300)\n",
    "print(scores)\n",
    "isYes = pyip.inputMenu(['y','n'],prompt=\"學生是否符合加分條件(請選擇1或2)?\\n\",numbered=True)\n",
    "if isYes == 'y':\n",
    "    scores *= 1.05\n",
    "    if scores > 300:\n",
    "        scores = 300\n",
    "print(f\"學生分數為{scores}\")"
   ]
  },
  {
   "cell_type": "code",
   "execution_count": 36,
   "metadata": {},
   "outputs": [
    {
     "name": "stdout",
     "output_type": "stream",
     "text": [
      "不是負數\n",
      "3.0\n"
     ]
    }
   ],
   "source": [
    "#巢狀選擇\n",
    "#* 如果x不是負數，則傳回值為 x **(1/y)\n",
    "#* 如果x是負數而且為偶數，則傳回值為\"虛數\"\n",
    "#* 如果x是負數而且為奇數，則傳回值為 -(-x) ** (1/y)\n",
    "\n",
    "x = 9\n",
    "y = 2\n",
    "if x >=0:\n",
    "    print(\"不是負數\")\n",
    "    root = x ** (1/y)\n",
    "else:\n",
    "    if x % 2 == 0:\n",
    "        root = \"虛數\"\n",
    "    else:\n",
    "        root = -(-x)** (1 / y)\n",
    "print(root)"
   ]
  },
  {
   "cell_type": "code",
   "execution_count": 2,
   "metadata": {},
   "outputs": [
    {
     "name": "stdout",
     "output_type": "stream",
     "text": [
      "不及格\n"
     ]
    }
   ],
   "source": [
    "scores= 59\n",
    "if scores < 60:\n",
    "    print(\"不及格\")\n",
    "else:\n",
    "    print(\"及格\")"
   ]
  },
  {
   "cell_type": "code",
   "execution_count": 6,
   "metadata": {},
   "outputs": [
    {
     "name": "stdout",
     "output_type": "stream",
     "text": [
      "優\n"
     ]
    }
   ],
   "source": [
    "scores= 90\n",
    "if scores < 60:\n",
    "    print(\"不及格\")\n",
    "else:\n",
    "    if scores >= 80:\n",
    "        print(\"優\")\n",
    "    else:\n",
    "        print(\"甲\")"
   ]
  },
  {
   "cell_type": "code",
   "execution_count": 7,
   "metadata": {},
   "outputs": [
    {
     "name": "stdout",
     "output_type": "stream",
     "text": [
      "優\n"
     ]
    }
   ],
   "source": [
    "scores= 90\n",
    "if scores < 60:\n",
    "    print(\"不及格\")\n",
    "elif scores >= 80:\n",
    "    print(\"優\")\n",
    "else:\n",
    "    print(\"甲\")"
   ]
  },
  {
   "cell_type": "code",
   "execution_count": 11,
   "metadata": {},
   "outputs": [
    {
     "name": "stdout",
     "output_type": "stream",
     "text": [
      "丁\n"
     ]
    }
   ],
   "source": [
    "scores= 59\n",
    "if scores >= 90:\n",
    "    print(\"優\")\n",
    "elif scores >= 80:\n",
    "    print(\"甲\")\n",
    "elif scores >= 70:\n",
    "    print(\"乙\")\n",
    "elif scores >= 60:\n",
    "    print(\"丙\")\n",
    "else:\n",
    "    print('丁')"
   ]
  },
  {
   "cell_type": "code",
   "execution_count": 1,
   "metadata": {},
   "outputs": [
    {
     "name": "stdout",
     "output_type": "stream",
     "text": [
      "請輸入顧戶購買金額:130000\n",
      "實付金額是: 104000.0元\n"
     ]
    }
   ],
   "source": [
    "#請輸入顧戶購買金額，若金額在\n",
    "#100000元打8折\n",
    "#50000打85折\n",
    "#30000打9折\n",
    "#10000打95折\n",
    "\n",
    "#請輸入購買金額:130000\n",
    "#實付金額是:104000.0元\n",
    "\n",
    "import pyinputplus as pyip\n",
    "\n",
    "scores = pyip.inputInt(\"請輸入顧戶購買金額:\")\n",
    "print(scores)\n",
    "if scores >= 100000:\n",
    "    print (f\"實付金額是: {scores * 0.8}元\")\n",
    "elif scores >= 50000:\n",
    "    print (f\"實付金額是: {scores * 0.85}元\")\n",
    "elif scores >= 30000:\n",
    "    print (f\"實付金額是: {scores * 0.9}元\")\n",
    "elif scores >= 10000:\n",
    "    print (f\"實付金額是: {scores * 0.95}元\")\n",
    "elif scores < 10000:\n",
    "    print (f\"實付金額是: {scores}元\")\n",
    "\n",
    "  \n"
   ]
  },
  {
   "cell_type": "code",
   "execution_count": 2,
   "metadata": {},
   "outputs": [
    {
     "name": "stdout",
     "output_type": "stream",
     "text": [
      "未達消費門檻，不打折，共9000元\n"
     ]
    }
   ],
   "source": [
    "pay = int(input())\n",
    "\n",
    "if pay >= 100000:\n",
    "    pay *= 0.8\n",
    "    pay = int(pay)\n",
    "    print(f'達消費門檻，打8折，共{pay}元')\n",
    "elif pay >= 50000:\n",
    "    pay *= 0.85\n",
    "    pay = int(pay)\n",
    "    print(f'達消費門檻，打85折，共{pay}元')\n",
    "elif pay >= 30000:\n",
    "    pay *= 0.9\n",
    "    pay = int(pay)\n",
    "    print(f'達消費門檻，打5折，共{pay}元')\n",
    "elif pay >= 10000:\n",
    "    pay *= 0.95\n",
    "    pay = int(pay)\n",
    "    print(f'達消費門檻，打85折，共{pay}元')\n",
    "else:\n",
    "    print(f'未達消費門檻，不打折，共{pay}元')"
   ]
  }
 ],
 "metadata": {
  "kernelspec": {
   "display_name": "Python 3",
   "language": "python",
   "name": "python3"
  },
  "language_info": {
   "codemirror_mode": {
    "name": "ipython",
    "version": 3
   },
   "file_extension": ".py",
   "mimetype": "text/x-python",
   "name": "python",
   "nbconvert_exporter": "python",
   "pygments_lexer": "ipython3",
   "version": "3.10.13"
  }
 },
 "nbformat": 4,
 "nbformat_minor": 2
}
