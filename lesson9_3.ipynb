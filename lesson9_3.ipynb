{
 "cells": [
  {
   "cell_type": "code",
   "execution_count": 2,
   "metadata": {},
   "outputs": [],
   "source": [
    "stu1 = [78,92,65,86,74] #list\n",
    "stu2 = [80,90,66,84,75]\n",
    "stu3 = [79,91,64,89,79]"
   ]
  },
  {
   "cell_type": "code",
   "execution_count": 3,
   "metadata": {},
   "outputs": [
    {
     "data": {
      "text/plain": [
       "[[78, 92, 65, 86, 74], [80, 90, 66, 84, 75], [79, 91, 64, 89, 79]]"
      ]
     },
     "execution_count": 3,
     "metadata": {},
     "output_type": "execute_result"
    }
   ],
   "source": [
    "students = [stu1,stu2,stu3] #二維list 一個資料儲存三個學生 用符號建立的\n",
    "students"
   ]
  },
  {
   "cell_type": "code",
   "execution_count": 4,
   "metadata": {},
   "outputs": [
    {
     "data": {
      "text/plain": [
       "[[78, 92, 65, 86, 74], [80, 90, 66, 84, 75], [79, 91, 64, 89, 79]]"
      ]
     },
     "execution_count": 4,
     "metadata": {},
     "output_type": "execute_result"
    }
   ],
   "source": [
    "students = list() #用實體建立的 跟上面一樣\n",
    "students.append(stu1)\n",
    "students.append(stu2)\n",
    "students.append(stu3)\n",
    "students"
   ]
  },
  {
   "cell_type": "code",
   "execution_count": 9,
   "metadata": {},
   "outputs": [
    {
     "name": "stdout",
     "output_type": "stream",
     "text": [
      "66\n",
      "57\n",
      "55\n",
      "72\n",
      "94\n"
     ]
    }
   ],
   "source": [
    "#建立一個學生的5個分數,執行5次\n",
    "import random\n",
    "\n",
    "for _ in range(5): #確定要執行5次故用 FOR IN (_省略運算子)\n",
    "    score = random.randint(50,100)\n",
    "    print(score) #執行一次就會被覆蓋並沒有存在記憶體中，故要加上如下 stu= []"
   ]
  },
  {
   "cell_type": "code",
   "execution_count": 11,
   "metadata": {},
   "outputs": [
    {
     "data": {
      "text/plain": [
       "[73, 96, 65, 76, 57]"
      ]
     },
     "execution_count": 11,
     "metadata": {},
     "output_type": "execute_result"
    }
   ],
   "source": [
    "import random\n",
    "stu = [] #故要加上一個list，存在記憶，分數才會被存檔\n",
    "for _ in range(5): #確定要執行5次故用 FOR IN (_省略運算子)\n",
    "    score = random.randint(50,100)\n",
    "    stu.append(score)\n",
    "stu"
   ]
  }
 ],
 "metadata": {
  "kernelspec": {
   "display_name": "Python 3",
   "language": "python",
   "name": "python3"
  },
  "language_info": {
   "codemirror_mode": {
    "name": "ipython",
    "version": 3
   },
   "file_extension": ".py",
   "mimetype": "text/x-python",
   "name": "python",
   "nbconvert_exporter": "python",
   "pygments_lexer": "ipython3",
   "version": "3.10.13"
  }
 },
 "nbformat": 4,
 "nbformat_minor": 2
}
