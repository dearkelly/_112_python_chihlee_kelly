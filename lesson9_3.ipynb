{
 "cells": [
  {
   "cell_type": "code",
   "execution_count": 2,
   "metadata": {},
   "outputs": [],
   "source": [
    "stu1 = [78,92,65,86,74] #list\n",
    "stu2 = [80,90,66,84,75]\n",
    "stu3 = [79,91,64,89,79]"
   ]
  },
  {
   "cell_type": "code",
   "execution_count": 3,
   "metadata": {},
   "outputs": [
    {
     "data": {
      "text/plain": [
       "[[78, 92, 65, 86, 74], [80, 90, 66, 84, 75], [79, 91, 64, 89, 79]]"
      ]
     },
     "execution_count": 3,
     "metadata": {},
     "output_type": "execute_result"
    }
   ],
   "source": [
    "students = [stu1,stu2,stu3] #二維list 一個資料儲存三個學生 用符號建立的\n",
    "students"
   ]
  },
  {
   "cell_type": "code",
   "execution_count": 4,
   "metadata": {},
   "outputs": [
    {
     "data": {
      "text/plain": [
       "[[78, 92, 65, 86, 74], [80, 90, 66, 84, 75], [79, 91, 64, 89, 79]]"
      ]
     },
     "execution_count": 4,
     "metadata": {},
     "output_type": "execute_result"
    }
   ],
   "source": [
    "students = list() #用實體建立的 跟上面一樣\n",
    "students.append(stu1)\n",
    "students.append(stu2)\n",
    "students.append(stu3)\n",
    "students"
   ]
  },
  {
   "cell_type": "code",
   "execution_count": 9,
   "metadata": {},
   "outputs": [
    {
     "name": "stdout",
     "output_type": "stream",
     "text": [
      "66\n",
      "57\n",
      "55\n",
      "72\n",
      "94\n"
     ]
    }
   ],
   "source": [
    "#建立一個學生的5個分數,執行5次\n",
    "import random\n",
    "\n",
    "for _ in range(5): #確定要執行5次故用 FOR IN (_省略運算子)\n",
    "    score = random.randint(50,100)\n",
    "    print(score) #執行一次就會被覆蓋並沒有存在記憶體中，故要加上如下 stu= []"
   ]
  },
  {
   "cell_type": "code",
   "execution_count": 11,
   "metadata": {},
   "outputs": [
    {
     "data": {
      "text/plain": [
       "[73, 96, 65, 76, 57]"
      ]
     },
     "execution_count": 11,
     "metadata": {},
     "output_type": "execute_result"
    }
   ],
   "source": [
    "import random\n",
    "stu = [] #故要加上一個list，存在記憶，分數才會被存檔\n",
    "for _ in range(5): #確定要執行5次故用 FOR IN (_省略運算子)\n",
    "    score = random.randint(50,100)\n",
    "    stu.append(score)\n",
    "stu"
   ]
  },
  {
   "cell_type": "code",
   "execution_count": 13,
   "metadata": {},
   "outputs": [
    {
     "data": {
      "text/plain": [
       "[[54, 79, 60, 51, 61],\n",
       " [73, 54, 65, 63, 81],\n",
       " [50, 76, 69, 97, 70],\n",
       " [76, 95, 55, 69, 71],\n",
       " [74, 74, 50, 57, 98],\n",
       " [52, 100, 68, 83, 60],\n",
       " [100, 70, 84, 60, 72],\n",
       " [50, 51, 82, 88, 56],\n",
       " [82, 91, 70, 96, 77],\n",
       " [67, 64, 60, 73, 82],\n",
       " [74, 57, 71, 72, 82],\n",
       " [99, 91, 84, 63, 63],\n",
       " [97, 52, 92, 83, 79],\n",
       " [61, 70, 75, 50, 94],\n",
       " [62, 62, 78, 76, 77],\n",
       " [64, 96, 53, 73, 59],\n",
       " [64, 64, 92, 79, 99],\n",
       " [54, 98, 75, 95, 88],\n",
       " [65, 80, 70, 83, 68],\n",
       " [83, 92, 93, 52, 78],\n",
       " [86, 93, 64, 70, 100],\n",
       " [84, 72, 89, 68, 91],\n",
       " [99, 77, 53, 72, 62],\n",
       " [51, 93, 89, 92, 70],\n",
       " [70, 54, 55, 81, 66],\n",
       " [74, 53, 85, 84, 64],\n",
       " [60, 51, 50, 89, 93],\n",
       " [57, 83, 72, 88, 82],\n",
       " [75, 82, 86, 79, 52],\n",
       " [91, 62, 75, 66, 52],\n",
       " [70, 66, 81, 74, 71],\n",
       " [85, 89, 73, 64, 92],\n",
       " [58, 98, 91, 79, 93],\n",
       " [96, 63, 83, 54, 76],\n",
       " [51, 98, 98, 87, 52],\n",
       " [85, 85, 98, 73, 71],\n",
       " [52, 98, 76, 92, 90],\n",
       " [64, 52, 81, 97, 52],\n",
       " [89, 56, 54, 95, 96],\n",
       " [67, 97, 92, 58, 66],\n",
       " [56, 100, 98, 62, 54],\n",
       " [94, 83, 57, 94, 94],\n",
       " [98, 63, 77, 89, 91],\n",
       " [96, 73, 95, 63, 70],\n",
       " [54, 77, 70, 54, 91],\n",
       " [62, 91, 91, 65, 71],\n",
       " [61, 53, 100, 95, 90],\n",
       " [75, 84, 69, 89, 72],\n",
       " [57, 53, 77, 53, 87],\n",
       " [92, 61, 52, 62, 57]]"
      ]
     },
     "execution_count": 13,
     "metadata": {},
     "output_type": "execute_result"
    }
   ],
   "source": [
    "#建立一個學生的5個分數,50個學生 (二維list ，表格資料)\n",
    "\n",
    "students = []\n",
    "for _ in range(50): #50個學生\n",
    "    stu = [] \n",
    "    for _ in range(5): #5個分數\n",
    "        score = random.randint(50,100)\n",
    "        stu.append(score) #5個分數\n",
    "    students.append(stu) #50個學生\n",
    "students"
   ]
  },
  {
   "cell_type": "code",
   "execution_count": 16,
   "metadata": {},
   "outputs": [
    {
     "data": {
      "text/plain": [
       "[[66, 96, 62, 63, 64],\n",
       " [79, 86, 54, 56, 93],\n",
       " [87, 51, 98, 100, 76],\n",
       " [68, 53, 89, 98, 89],\n",
       " [61, 55, 51, 66, 93],\n",
       " [80, 98, 52, 74, 64],\n",
       " [58, 81, 62, 50, 53],\n",
       " [56, 89, 50, 66, 76],\n",
       " [54, 77, 73, 95, 90],\n",
       " [80, 66, 82, 91, 71],\n",
       " [80, 84, 77, 81, 73],\n",
       " [85, 58, 50, 62, 50],\n",
       " [75, 72, 68, 95, 63],\n",
       " [60, 90, 58, 84, 94],\n",
       " [70, 64, 93, 64, 65],\n",
       " [68, 72, 75, 51, 59],\n",
       " [84, 71, 64, 72, 98],\n",
       " [55, 72, 84, 80, 50],\n",
       " [98, 68, 57, 63, 62],\n",
       " [64, 56, 74, 94, 79],\n",
       " [75, 94, 56, 89, 90],\n",
       " [69, 61, 98, 80, 72],\n",
       " [84, 83, 57, 54, 87],\n",
       " [83, 51, 83, 89, 96],\n",
       " [81, 65, 99, 98, 66],\n",
       " [76, 56, 57, 75, 76],\n",
       " [89, 82, 71, 51, 79],\n",
       " [81, 79, 100, 97, 75],\n",
       " [67, 98, 86, 78, 97],\n",
       " [80, 52, 71, 51, 74],\n",
       " [79, 62, 95, 62, 94],\n",
       " [65, 56, 59, 98, 69],\n",
       " [76, 68, 65, 75, 90],\n",
       " [75, 60, 85, 90, 56],\n",
       " [97, 59, 50, 97, 62],\n",
       " [63, 87, 84, 70, 62],\n",
       " [59, 50, 77, 50, 98],\n",
       " [87, 82, 91, 64, 59],\n",
       " [54, 80, 95, 84, 83],\n",
       " [66, 95, 79, 56, 53],\n",
       " [82, 60, 69, 90, 66],\n",
       " [80, 71, 84, 61, 58],\n",
       " [52, 73, 77, 74, 80],\n",
       " [82, 98, 70, 99, 100],\n",
       " [54, 100, 54, 71, 54],\n",
       " [82, 80, 54, 63, 89],\n",
       " [52, 64, 53, 51, 94],\n",
       " [76, 57, 92, 72, 97],\n",
       " [62, 100, 87, 53, 77],\n",
       " [73, 66, 73, 55, 54]]"
      ]
     },
     "execution_count": 16,
     "metadata": {},
     "output_type": "execute_result"
    }
   ],
   "source": [
    "import random #上面有建立過就不用再更新impord (變更funtion 可以將邏輯變簡單)\n",
    "def createStudent()->list[int]: #->list[int]可以省略\n",
    "    stu = [] \n",
    "    for _ in range(5): #5個分數\n",
    "        score = random.randint(50,100)\n",
    "        stu.append(score) #5個分數\n",
    "    return stu\n",
    "\n",
    "classes = []\n",
    "for _ in range(50): # 50個學生\n",
    "    stu = createStudent() #每次傳輸一個學生\n",
    "    classes.append(stu) \n",
    "classes"
   ]
  }
 ],
 "metadata": {
  "kernelspec": {
   "display_name": "Python 3",
   "language": "python",
   "name": "python3"
  },
  "language_info": {
   "codemirror_mode": {
    "name": "ipython",
    "version": 3
   },
   "file_extension": ".py",
   "mimetype": "text/x-python",
   "name": "python",
   "nbconvert_exporter": "python",
   "pygments_lexer": "ipython3",
   "version": "3.10.13"
  }
 },
 "nbformat": 4,
 "nbformat_minor": 2
}
