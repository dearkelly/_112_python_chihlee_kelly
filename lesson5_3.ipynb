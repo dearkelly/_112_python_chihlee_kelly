{
 "cells": [
  {
   "cell_type": "code",
   "execution_count": null,
   "metadata": {},
   "outputs": [],
   "source": [
    "import random\n",
    "min = 1\n",
    "max = 10\n",
    "count = 0\n",
    "target = random.randint(min,max)\n",
    "print(\"=======猜數字遊戲========\\n\")\n",
    "while(True):\n",
    "   keyin = int(input(f\"猜數字的範圍{min}~{max}\"))\n",
    "   count += 1\n",
    "   if(keyin >= min and keyin <= max):\n",
    "      if keyin == target:\n",
    "         print(f\"賓果!猜對了，答案是:{keyin}\")\n",
    "         break\n",
    "      else:\n",
    "         print(\"請再努力!!!\")\n",
    "         continue\n",
    "   else:\n",
    "      print(\"請輸入提示範圍內的數字\")\n",
    "print(f\"您猜了{count}次\")\n",
    "print(\"遊戲結束\")\n"
   ]
  }
 ],
 "metadata": {
  "kernelspec": {
   "display_name": "Python 3",
   "language": "python",
   "name": "python3"
  },
  "language_info": {
   "codemirror_mode": {
    "name": "ipython",
    "version": 3
   },
   "file_extension": ".py",
   "mimetype": "text/x-python",
   "name": "python",
   "nbconvert_exporter": "python",
   "pygments_lexer": "ipython3",
   "version": "3.10.13"
  }
 },
 "nbformat": 4,
 "nbformat_minor": 2
}
