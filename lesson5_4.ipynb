{
 "cells": [
  {
   "cell_type": "code",
   "execution_count": 1,
   "metadata": {},
   "outputs": [
    {
     "name": "stdout",
     "output_type": "stream",
     "text": [
      "============猜數字遊戲=================\n",
      "\n",
      "再大一點\n",
      "加油@您已經猜了1次\n",
      "再大一點\n",
      "加油@您已經猜了2次\n",
      "再小一點\n",
      "加油@您已經猜了3次\n",
      "再小一點\n",
      "加油@您已經猜了4次\n",
      "再小一點\n",
      "加油@您已經猜了5次\n",
      "再大一點\n",
      "加油@您已經猜了6次\n",
      "請輸入提示範圍內的數字\n",
      "再大一點\n",
      "加油@您已經猜了8次\n",
      "賓果!猜對了, 答案是:84\n",
      "您猜了9次\n",
      "遊戲結束\n"
     ]
    }
   ],
   "source": [
    "import random\n",
    "min = 1\n",
    "max = 100\n",
    "count = 0\n",
    "target = random.randint(min,max)\n",
    "print(\"============猜數字遊戲=================\\n\")\n",
    "while(True):\n",
    "    keyin = int(input(f\"猜數字的範圍{min}~{max}\"))\n",
    "    count += 1\n",
    "    if(keyin >= min and keyin <= max):\n",
    "        if keyin == target:\n",
    "            print(f\"賓果!猜對了, 答案是:{keyin}\")\n",
    "            break\n",
    "        elif keyin > target:\n",
    "            print(\"再小一點\")\n",
    "            max = keyin - 1\n",
    "        elif keyin < target:\n",
    "            print(\"再大一點\")\n",
    "            min = keyin + 1\n",
    "        print(f\"加油@您已經猜了{count}次\")\n",
    "        continue\n",
    "    else:\n",
    "        print(\"請輸入提示範圍內的數字\")\n",
    "print(f\"您猜了{count}次\")\n",
    "print(\"遊戲結束\")"
   ]
  },
  {
   "cell_type": "code",
   "execution_count": 3,
   "metadata": {},
   "outputs": [],
   "source": [
    "import random\n",
    "def playgame(max:int,min:int) -> None:\n",
    "    count = 0\n",
    "    target = random.randint(min,max)\n",
    "    print(\"============猜數字遊戲=================\\n\")\n",
    "    while(True):\n",
    "        keyin = int(input(f\"猜數字的範圍{min}~{max}\"))\n",
    "        count += 1\n",
    "        if(keyin >= min and keyin <= max):\n",
    "            if keyin == target:\n",
    "                print(f\"賓果!猜對了, 答案是:{keyin}\")\n",
    "                break\n",
    "            elif keyin > target:\n",
    "                print(\"再小一點\")\n",
    "                max = keyin - 1\n",
    "            elif keyin < target:\n",
    "                print(\"再大一點\")\n",
    "                min = keyin + 1\n",
    "            print(f\"加油@您已經猜了{count}次\")\n",
    "            continue\n",
    "        else:\n",
    "            print(\"請輸入提示範圍內的數字\")\n",
    "    print(f\"您猜了{count}次\")\n",
    "    print(\"遊戲結束\")"
   ]
  },
  {
   "cell_type": "code",
   "execution_count": 4,
   "metadata": {},
   "outputs": [
    {
     "name": "stdout",
     "output_type": "stream",
     "text": [
      "============猜數字遊戲=================\n",
      "\n",
      "再小一點\n",
      "加油@您已經猜了1次\n",
      "再小一點\n",
      "加油@您已經猜了2次\n",
      "請輸入提示範圍內的數字\n",
      "再小一點\n",
      "加油@您已經猜了4次\n",
      "再小一點\n",
      "加油@您已經猜了5次\n",
      "再小一點\n",
      "加油@您已經猜了6次\n",
      "賓果!猜對了, 答案是:13\n",
      "您猜了7次\n",
      "遊戲結束\n"
     ]
    }
   ],
   "source": [
    "playgame(100,10)"
   ]
  },
  {
   "cell_type": "code",
   "execution_count": 8,
   "metadata": {},
   "outputs": [],
   "source": [
    "#引數名稱的呼叫，可以不依順序\n",
    "import random\n",
    "def playgame(max:int,min:int) -> None:\n",
    "    count = 0\n",
    "    target = random.randint(min,max)\n",
    "    print(target)\n",
    "    print(\"============猜數字遊戲=================\\n\")\n",
    "    while(True):\n",
    "        keyin = int(input(f\"猜數字的範圍{min}~{max}\"))\n",
    "        count += 1\n",
    "        if(keyin >= min and keyin <= max):\n",
    "            if keyin == target:\n",
    "                print(f\"賓果!猜對了, 答案是:{keyin}\")\n",
    "                break\n",
    "            elif keyin > target:\n",
    "                print(\"再小一點\")\n",
    "                max = keyin - 1\n",
    "            elif keyin < target:\n",
    "                print(\"再大一點\")\n",
    "                min = keyin + 1\n",
    "            print(f\"加油@您已經猜了{count}次\")\n",
    "            continue\n",
    "        else:\n",
    "            print(\"請輸入提示範圍內的數字\")\n",
    "    print(f\"您猜了{count}次\")\n",
    "    print(\"遊戲結束\")"
   ]
  },
  {
   "cell_type": "code",
   "execution_count": 9,
   "metadata": {},
   "outputs": [
    {
     "name": "stdout",
     "output_type": "stream",
     "text": [
      "65\n",
      "============猜數字遊戲=================\n",
      "\n",
      "賓果!猜對了, 答案是:65\n",
      "您猜了1次\n",
      "遊戲結束\n"
     ]
    }
   ],
   "source": [
    "#引數名稱的呼叫，可以不依順序\n",
    "playgame(min=50,max=150)"
   ]
  }
 ],
 "metadata": {
  "kernelspec": {
   "display_name": "Python 3",
   "language": "python",
   "name": "python3"
  },
  "language_info": {
   "codemirror_mode": {
    "name": "ipython",
    "version": 3
   },
   "file_extension": ".py",
   "mimetype": "text/x-python",
   "name": "python",
   "nbconvert_exporter": "python",
   "pygments_lexer": "ipython3",
   "version": "3.10.13"
  }
 },
 "nbformat": 4,
 "nbformat_minor": 2
}
