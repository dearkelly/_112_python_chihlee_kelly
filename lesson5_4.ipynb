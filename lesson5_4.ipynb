{
 "cells": [
  {
   "cell_type": "code",
   "execution_count": null,
   "metadata": {},
   "outputs": [],
   "source": [
    "import random\n",
    "min = 1\n",
    "max = 100\n",
    "count = 0\n",
    "target = random.randint(min,max)\n",
    "print(\"============猜數字遊戲=================\\n\")\n",
    "while(True):\n",
    "    keyin = int(input(f\"猜數字的範圍{min}~{max}\"))\n",
    "    count += 1\n",
    "    if(keyin >= min and keyin <= max):\n",
    "        if keyin == target:\n",
    "            print(f\"賓果!猜對了, 答案是:{keyin}\")\n",
    "            break\n",
    "        elif keyin > target:\n",
    "            print(\"再小一點\")\n",
    "            max = keyin - 1\n",
    "        elif keyin < target:\n",
    "            print(\"再大一點\")\n",
    "            min = keyin + 1\n",
    "        print(f\"加油@您已經猜了{count}次\")\n",
    "        continue\n",
    "    else:\n",
    "        print(\"請輸入提示範圍內的數字\")\n",
    "print(f\"您猜了{count}次\")\n",
    "print(\"遊戲結束\")"
   ]
  },
  {
   "cell_type": "code",
   "execution_count": null,
   "metadata": {},
   "outputs": [],
   "source": [
    "import random\n",
    "def playgame(max:int,min:int) -> None:\n",
    "    count = 0\n",
    "    target = random.randint(min,max)\n",
    "    print(\"============猜數字遊戲=================\\n\")\n",
    "    while(True):\n",
    "        keyin = int(input(f\"猜數字的範圍{min}~{max}\"))\n",
    "        count += 1\n",
    "        if(keyin >= min and keyin <= max):\n",
    "            if keyin == target:\n",
    "                print(f\"賓果!猜對了, 答案是:{keyin}\")\n",
    "                break\n",
    "            elif keyin > target:\n",
    "                print(\"再小一點\")\n",
    "                max = keyin - 1\n",
    "            elif keyin < target:\n",
    "                print(\"再大一點\")\n",
    "                min = keyin + 1\n",
    "            print(f\"加油@您已經猜了{count}次\")\n",
    "            continue\n",
    "        else:\n",
    "            print(\"請輸入提示範圍內的數字\")\n",
    "    print(f\"您猜了{count}次\")\n",
    "    print(\"遊戲結束\")"
   ]
  },
  {
   "cell_type": "code",
   "execution_count": null,
   "metadata": {},
   "outputs": [],
   "source": [
    "playgame(100,10)"
   ]
  },
  {
   "cell_type": "code",
   "execution_count": null,
   "metadata": {},
   "outputs": [],
   "source": [
    "#引數名稱的呼叫，可以不依順序\n",
    "import random\n",
    "def playgame(max:int,min:int) -> None:\n",
    "    count = 0\n",
    "    target = random.randint(min,max)\n",
    "    print(target)\n",
    "    print(\"============猜數字遊戲=================\\n\")\n",
    "    while(True):\n",
    "        keyin = int(input(f\"猜數字的範圍{min}~{max}\"))\n",
    "        count += 1\n",
    "        if(keyin >= min and keyin <= max):\n",
    "            if keyin == target:\n",
    "                print(f\"賓果!猜對了, 答案是:{keyin}\")\n",
    "                break\n",
    "            elif keyin > target:\n",
    "                print(\"再小一點\")\n",
    "                max = keyin - 1\n",
    "            elif keyin < target:\n",
    "                print(\"再大一點\")\n",
    "                min = keyin + 1\n",
    "            print(f\"加油@您已經猜了{count}次\")\n",
    "            continue\n",
    "        else:\n",
    "            print(\"請輸入提示範圍內的數字\")\n",
    "    print(f\"您猜了{count}次\")\n",
    "    print(\"遊戲結束\")"
   ]
  },
  {
   "cell_type": "code",
   "execution_count": 16,
   "metadata": {},
   "outputs": [
    {
     "ename": "NameError",
     "evalue": "name 'playgame' is not defined",
     "output_type": "error",
     "traceback": [
      "\u001b[0;31m---------------------------------------------------------------------------\u001b[0m",
      "\u001b[0;31mNameError\u001b[0m                                 Traceback (most recent call last)",
      "\u001b[1;32m/workspaces/_112_python_chihlee_kelly/lesson5_4.ipynb Cell 5\u001b[0m line \u001b[0;36m2\n\u001b[1;32m      <a href='vscode-notebook-cell://codespaces%2Bspecial-zebra-5gqw4679qxjph4v5g/workspaces/_112_python_chihlee_kelly/lesson5_4.ipynb#W4sdnNjb2RlLXJlbW90ZQ%3D%3D?line=0'>1</a>\u001b[0m \u001b[39m#引數名稱的呼叫，可以不依順序\u001b[39;00m\n\u001b[0;32m----> <a href='vscode-notebook-cell://codespaces%2Bspecial-zebra-5gqw4679qxjph4v5g/workspaces/_112_python_chihlee_kelly/lesson5_4.ipynb#W4sdnNjb2RlLXJlbW90ZQ%3D%3D?line=1'>2</a>\u001b[0m playgame(\u001b[39mmin\u001b[39m\u001b[39m=\u001b[39m\u001b[39m50\u001b[39m,\u001b[39mmax\u001b[39m\u001b[39m=\u001b[39m\u001b[39m150\u001b[39m)\n",
      "\u001b[0;31mNameError\u001b[0m: name 'playgame' is not defined"
     ]
    }
   ],
   "source": [
    "#引數名稱的呼叫，可以不依順序\n",
    "playgame(min=50,max=150)"
   ]
  },
  {
   "cell_type": "code",
   "execution_count": 20,
   "metadata": {},
   "outputs": [
    {
     "name": "stdout",
     "output_type": "stream",
     "text": [
      "高血壓一期\n"
     ]
    }
   ],
   "source": [
    "sbp = int(input(\"請輸入收縮壓:\"))\n",
    "dbp = int(input(\"請輸入舒張壓:\"))\n",
    "if sbp <= 120 and dbp <= 80:\n",
    "   print (\"正常\")\n",
    "elif sbp <= 129 and dbp <= 80:\n",
    "   print (\"血壓升高\")\n",
    "elif sbp <= 139 or dbp <= 89:\n",
    "   print (\"高血壓一期\")\n",
    "elif sbp >= 140 or dbp >= 90:\n",
    "   print (\"高血壓二期\")\n",
    "elif sbp >= 130 and dbp < 80:\n",
    "   print(\"單純收縮期高血壓\")"
   ]
  }
 ],
 "metadata": {
  "kernelspec": {
   "display_name": "Python 3",
   "language": "python",
   "name": "python3"
  },
  "language_info": {
   "codemirror_mode": {
    "name": "ipython",
    "version": 3
   },
   "file_extension": ".py",
   "mimetype": "text/x-python",
   "name": "python",
   "nbconvert_exporter": "python",
   "pygments_lexer": "ipython3",
   "version": "3.10.13"
  }
 },
 "nbformat": 4,
 "nbformat_minor": 2
}
